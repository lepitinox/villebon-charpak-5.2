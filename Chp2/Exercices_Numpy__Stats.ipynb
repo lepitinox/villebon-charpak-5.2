{
 "cells": [
  {
   "cell_type": "code",
   "execution_count": 3,
   "metadata": {},
   "outputs": [],
   "source": [
    "import numpy as np\n",
    "import matplotlib.pyplot as plt\n",
    "%matplotlib inline"
   ]
  },
  {
   "cell_type": "markdown",
   "metadata": {},
   "source": [
    "Dans le notebook suivant, nous allons illustrer de façon empirique le [théorème central limite](https://fr.wikipedia.org/wiki/Th%C3%A9or%C3%A8me_central_limite). Ce théorème jour un rôle fondamental en statistique, et nous y ferons appel pour justifier la forme des termes d'erreurs lors de la régression. Il permet de contrôler le comportement d'une somme de variables aléatoires indépendantes et identiquement distribuées lorsque le nombre de tirage est suffisant.\n",
    "\n",
    "Quelque soit la distribution initiale à partir de laquelle on échantillonne, la moyenne de l'échantillon sera distribuée suivant une loi normale, avec un écart type qui se réduit en $1/\\sqrt N $.\n",
    "\n",
    "Si on définit la variable centrée et réduite:\n",
    "\\begin{equation} z = \\frac{x - \\mu}{\\sigma}\\end{equation} \n",
    "Alors, pour N suffisamment grand \n",
    "$z \\rightarrow N(0,1)$"
   ]
  },
  {
   "cell_type": "markdown",
   "metadata": {},
   "source": [
    "Nous allons générer une liste de nombre dont nous connaissons parfaitement les propriétés telles que la moyenne ou l'écart-type. "
   ]
  },
  {
   "cell_type": "code",
   "execution_count": 4,
   "metadata": {},
   "outputs": [
    {
     "name": "stdout",
     "output_type": "stream",
     "text": [
      "shape x :  (10000,)\n",
      "10 first elements of x : \n",
      " [138.00224824 114.21197275 172.4440051  119.9907603  122.43151714\n",
      " 152.65997791 187.13547241 105.31288124 179.98452739 180.54516189]\n"
     ]
    }
   ],
   "source": [
    "x = np.random.uniform(100,200, size=10000)\n",
    "print('shape x : ', x.shape)\n",
    "print('10 first elements of x : \\n', x[:10])"
   ]
  },
  {
   "cell_type": "code",
   "execution_count": 5,
   "metadata": {},
   "outputs": [
    {
     "name": "stdout",
     "output_type": "stream",
     "text": [
      "true mean is 149.93110386589652\n"
     ]
    }
   ],
   "source": [
    "print(\"true mean is\", x.mean())"
   ]
  },
  {
   "cell_type": "markdown",
   "metadata": {},
   "source": [
    "Si on prend 1, puis 2, puis k éléments, alors la moyenne calculée se baladera autour de 49.5, en suivant une loi normale caractérisée par l'écart-type $1/\\sqrt k$ "
   ]
  },
  {
   "cell_type": "markdown",
   "metadata": {},
   "source": [
    "Nous allons échantillonner plusieurs fois une liste de taille k < 100, et allons voir comment se comportent la moyenne. Compléter la fonction ci-dessous qui prend en entrée un vecteur et qui retourne un vecteur de taille inférieure ou égale."
   ]
  },
  {
   "cell_type": "code",
   "execution_count": 23,
   "metadata": {},
   "outputs": [],
   "source": [
    "def sample_index(x, size):\n",
    "    \"\"\"sample random elements and return array index with length defined by size\n",
    "    \n",
    "        Args:\n",
    "            x (numpy.array) : vector to sample from\n",
    "        Returns:\n",
    "            numpy.array with length defined by size\n",
    "    \"\"\"\n",
    "    #return [int(x[np.random.randint(0,high = len(x))]) for i in range(size)]\n",
    "    #return [np.random.randint(0,high = len(x)) for i in range(size)]\n",
    "    return [np.random.choice(range(len(x)),replace= True)]"
   ]
  },
  {
   "cell_type": "markdown",
   "metadata": {},
   "source": [
    "Nous allons prendre plusieurs échantillons de taille << 100 et calculer la moyenne."
   ]
  },
  {
   "cell_type": "code",
   "execution_count": 24,
   "metadata": {},
   "outputs": [
    {
     "name": "stdout",
     "output_type": "stream",
     "text": [
      "119.78424440350715\n",
      "149.90118383294248\n",
      "101.76781396160433\n",
      "141.4580531250743\n",
      "121.02893906803553\n",
      "187.11983855445516\n",
      "135.7594639454141\n",
      "133.08521713382007\n",
      "178.03944202510542\n",
      "192.43820478451158\n"
     ]
    }
   ],
   "source": [
    "for i in range(10):\n",
    "    print(x[sample_index(x, 10)].mean())"
   ]
  },
  {
   "cell_type": "markdown",
   "metadata": {},
   "source": [
    "Construire une liste qui sauvegarde plusieurs valeurs de la moyenne, et construire l'histogramme de ces valeurs. "
   ]
  },
  {
   "cell_type": "code",
   "execution_count": null,
   "metadata": {
    "collapsed": true
   },
   "outputs": [],
   "source": [
    "N_iterations = 10000\n",
    "sampled = [x[sample_index(x,10)].m for i in range(10)]"
   ]
  },
  {
   "cell_type": "code",
   "execution_count": null,
   "metadata": {
    "collapsed": true
   },
   "outputs": [],
   "source": [
    "plt.hist(sampled, bins=100)\n",
    "plt.show()"
   ]
  },
  {
   "cell_type": "markdown",
   "metadata": {},
   "source": [
    "Construire la variable réduire $z$"
   ]
  },
  {
   "cell_type": "code",
   "execution_count": null,
   "metadata": {
    "collapsed": true
   },
   "outputs": [],
   "source": [
    "pass"
   ]
  },
  {
   "cell_type": "markdown",
   "metadata": {},
   "source": [
    "Construire la densité gaussienne de moyenne 0 et d'écart-type 1 entre -4 et 4, la représenter graphiquement et superposer l'histogramme de $z$"
   ]
  },
  {
   "cell_type": "code",
   "execution_count": null,
   "metadata": {
    "collapsed": true
   },
   "outputs": [],
   "source": [
    "pass"
   ]
  }
 ],
 "metadata": {
  "kernelspec": {
   "display_name": "Python 3",
   "language": "python",
   "name": "python3"
  },
  "language_info": {
   "codemirror_mode": {
    "name": "ipython",
    "version": 3
   },
   "file_extension": ".py",
   "mimetype": "text/x-python",
   "name": "python",
   "nbconvert_exporter": "python",
   "pygments_lexer": "ipython3",
   "version": "3.7.3"
  }
 },
 "nbformat": 4,
 "nbformat_minor": 2
}
